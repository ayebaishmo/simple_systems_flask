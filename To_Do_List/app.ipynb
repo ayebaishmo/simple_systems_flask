{
 "cells": [
  {
   "cell_type": "code",
   "execution_count": 11,
   "metadata": {},
   "outputs": [
    {
     "name": "stdout",
     "output_type": "stream",
     "text": [
      " * Serving Flask app '__main__'\n",
      " * Debug mode: off\n"
     ]
    },
    {
     "name": "stderr",
     "output_type": "stream",
     "text": [
      "WARNING: This is a development server. Do not use it in a production deployment. Use a production WSGI server instead.\n",
      " * Running on http://127.0.0.1:5000\n",
      "Press CTRL+C to quit\n",
      "127.0.0.1 - - [04/Sep/2024 16:50:47] \"GET / HTTP/1.1\" 200 -\n",
      "127.0.0.1 - - [04/Sep/2024 16:50:47] \"GET /favicon.ico HTTP/1.1\" 404 -\n",
      "Exception in thread Thread-156:\n",
      "Traceback (most recent call last):\n",
      "  File \"c:\\Users\\ISHMO_CT\\.virtualenvs\\more_systems-jqzJeBYM\\Lib\\site-packages\\urllib3\\connection.py\", line 196, in _new_conn\n",
      "    sock = connection.create_connection(\n",
      "           ^^^^^^^^^^^^^^^^^^^^^^^^^^^^^\n",
      "  File \"c:\\Users\\ISHMO_CT\\.virtualenvs\\more_systems-jqzJeBYM\\Lib\\site-packages\\urllib3\\util\\connection.py\", line 85, in create_connection\n",
      "    raise err\n",
      "  File \"c:\\Users\\ISHMO_CT\\.virtualenvs\\more_systems-jqzJeBYM\\Lib\\site-packages\\urllib3\\util\\connection.py\", line 73, in create_connection\n",
      "    sock.connect(sa)\n",
      "ConnectionRefusedError: [WinError 10061] No connection could be made because the target machine actively refused it\n",
      "\n",
      "The above exception was the direct cause of the following exception:\n",
      "\n",
      "Traceback (most recent call last):\n",
      "  File \"c:\\Users\\ISHMO_CT\\.virtualenvs\\more_systems-jqzJeBYM\\Lib\\site-packages\\urllib3\\connectionpool.py\", line 789, in urlopen\n",
      "    response = self._make_request(\n",
      "               ^^^^^^^^^^^^^^^^^^^\n",
      "  File \"c:\\Users\\ISHMO_CT\\.virtualenvs\\more_systems-jqzJeBYM\\Lib\\site-packages\\urllib3\\connectionpool.py\", line 495, in _make_request\n",
      "    conn.request(\n",
      "  File \"c:\\Users\\ISHMO_CT\\.virtualenvs\\more_systems-jqzJeBYM\\Lib\\site-packages\\urllib3\\connection.py\", line 398, in request\n",
      "    self.endheaders()\n",
      "  File \"C:\\ProgramData\\anaconda3\\Lib\\http\\client.py\", line 1281, in endheaders\n",
      "    self._send_output(message_body, encode_chunked=encode_chunked)\n",
      "  File \"C:\\ProgramData\\anaconda3\\Lib\\http\\client.py\", line 1041, in _send_output\n",
      "    self.send(msg)\n",
      "  File \"C:\\ProgramData\\anaconda3\\Lib\\http\\client.py\", line 979, in send\n",
      "    self.connect()\n",
      "  File \"c:\\Users\\ISHMO_CT\\.virtualenvs\\more_systems-jqzJeBYM\\Lib\\site-packages\\urllib3\\connection.py\", line 236, in connect\n",
      "    self.sock = self._new_conn()\n",
      "                ^^^^^^^^^^^^^^^^\n",
      "  File \"c:\\Users\\ISHMO_CT\\.virtualenvs\\more_systems-jqzJeBYM\\Lib\\site-packages\\urllib3\\connection.py\", line 211, in _new_conn\n",
      "    raise NewConnectionError(\n",
      "urllib3.exceptions.NewConnectionError: <urllib3.connection.HTTPConnection object at 0x0000022CD4D90AD0>: Failed to establish a new connection: [WinError 10061] No connection could be made because the target machine actively refused it\n",
      "\n",
      "The above exception was the direct cause of the following exception:\n",
      "\n",
      "Traceback (most recent call last):\n",
      "  File \"c:\\Users\\ISHMO_CT\\.virtualenvs\\more_systems-jqzJeBYM\\Lib\\site-packages\\requests\\adapters.py\", line 667, in send\n",
      "    resp = conn.urlopen(\n",
      "           ^^^^^^^^^^^^^\n",
      "  File \"c:\\Users\\ISHMO_CT\\.virtualenvs\\more_systems-jqzJeBYM\\Lib\\site-packages\\urllib3\\connectionpool.py\", line 843, in urlopen\n",
      "    retries = retries.increment(\n",
      "              ^^^^^^^^^^^^^^^^^^\n",
      "  File \"c:\\Users\\ISHMO_CT\\.virtualenvs\\more_systems-jqzJeBYM\\Lib\\site-packages\\urllib3\\util\\retry.py\", line 519, in increment\n",
      "    raise MaxRetryError(_pool, url, reason) from reason  # type: ignore[arg-type]\n",
      "    ^^^^^^^^^^^^^^^^^^^^^^^^^^^^^^^^^^^^^^^^^^^^^^^^^^^\n",
      "urllib3.exceptions.MaxRetryError: HTTPConnectionPool(host='localhost', port=4040): Max retries exceeded with url: /api/tunnels (Caused by NewConnectionError('<urllib3.connection.HTTPConnection object at 0x0000022CD4D90AD0>: Failed to establish a new connection: [WinError 10061] No connection could be made because the target machine actively refused it'))\n",
      "\n",
      "During handling of the above exception, another exception occurred:\n",
      "\n",
      "Traceback (most recent call last):\n",
      "  File \"C:\\ProgramData\\anaconda3\\Lib\\threading.py\", line 1038, in _bootstrap_inner\n",
      "    self.run()\n",
      "  File \"C:\\ProgramData\\anaconda3\\Lib\\threading.py\", line 1394, in run\n",
      "    self.function(*self.args, **self.kwargs)\n",
      "  File \"c:\\Users\\ISHMO_CT\\.virtualenvs\\more_systems-jqzJeBYM\\Lib\\site-packages\\flask_ngrok.py\", line 70, in start_ngrok\n",
      "    ngrok_address = _run_ngrok()\n",
      "                    ^^^^^^^^^^^^\n",
      "  File \"c:\\Users\\ISHMO_CT\\.virtualenvs\\more_systems-jqzJeBYM\\Lib\\site-packages\\flask_ngrok.py\", line 35, in _run_ngrok\n",
      "    tunnel_url = requests.get(localhost_url).text  # Get the tunnel information\n",
      "                 ^^^^^^^^^^^^^^^^^^^^^^^^^^^\n",
      "  File \"c:\\Users\\ISHMO_CT\\.virtualenvs\\more_systems-jqzJeBYM\\Lib\\site-packages\\requests\\api.py\", line 73, in get\n",
      "    return request(\"get\", url, params=params, **kwargs)\n",
      "           ^^^^^^^^^^^^^^^^^^^^^^^^^^^^^^^^^^^^^^^^^^^^\n",
      "  File \"c:\\Users\\ISHMO_CT\\.virtualenvs\\more_systems-jqzJeBYM\\Lib\\site-packages\\requests\\api.py\", line 59, in request\n",
      "    return session.request(method=method, url=url, **kwargs)\n",
      "           ^^^^^^^^^^^^^^^^^^^^^^^^^^^^^^^^^^^^^^^^^^^^^^^^^\n",
      "  File \"c:\\Users\\ISHMO_CT\\.virtualenvs\\more_systems-jqzJeBYM\\Lib\\site-packages\\requests\\sessions.py\", line 589, in request\n",
      "    resp = self.send(prep, **send_kwargs)\n",
      "           ^^^^^^^^^^^^^^^^^^^^^^^^^^^^^^\n",
      "  File \"c:\\Users\\ISHMO_CT\\.virtualenvs\\more_systems-jqzJeBYM\\Lib\\site-packages\\requests\\sessions.py\", line 703, in send\n",
      "    r = adapter.send(request, **kwargs)\n",
      "        ^^^^^^^^^^^^^^^^^^^^^^^^^^^^^^^\n",
      "  File \"c:\\Users\\ISHMO_CT\\.virtualenvs\\more_systems-jqzJeBYM\\Lib\\site-packages\\requests\\adapters.py\", line 700, in send\n",
      "    raise ConnectionError(e, request=request)\n",
      "requests.exceptions.ConnectionError: HTTPConnectionPool(host='localhost', port=4040): Max retries exceeded with url: /api/tunnels (Caused by NewConnectionError('<urllib3.connection.HTTPConnection object at 0x0000022CD4D90AD0>: Failed to establish a new connection: [WinError 10061] No connection could be made because the target machine actively refused it'))\n",
      "127.0.0.1 - - [04/Sep/2024 16:50:53] \"POST /add HTTP/1.1\" 302 -\n",
      "127.0.0.1 - - [04/Sep/2024 16:50:53] \"GET / HTTP/1.1\" 200 -\n"
     ]
    },
    {
     "name": "stdout",
     "output_type": "stream",
     "text": [
      "Task Added: true\n"
     ]
    },
    {
     "name": "stderr",
     "output_type": "stream",
     "text": [
      "127.0.0.1 - - [04/Sep/2024 16:50:54] \"GET /delete/0 HTTP/1.1\" 302 -\n",
      "127.0.0.1 - - [04/Sep/2024 16:50:54] \"GET / HTTP/1.1\" 200 -\n"
     ]
    },
    {
     "name": "stdout",
     "output_type": "stream",
     "text": [
      "Task Deleted: true\n"
     ]
    },
    {
     "name": "stderr",
     "output_type": "stream",
     "text": [
      "127.0.0.1 - - [04/Sep/2024 16:50:58] \"POST /add HTTP/1.1\" 302 -\n",
      "127.0.0.1 - - [04/Sep/2024 16:50:58] \"GET / HTTP/1.1\" 200 -\n"
     ]
    },
    {
     "name": "stdout",
     "output_type": "stream",
     "text": [
      "Task Added: when\n"
     ]
    },
    {
     "name": "stderr",
     "output_type": "stream",
     "text": [
      "127.0.0.1 - - [04/Sep/2024 16:51:02] \"POST /add HTTP/1.1\" 302 -\n",
      "127.0.0.1 - - [04/Sep/2024 16:51:02] \"GET / HTTP/1.1\" 200 -\n"
     ]
    },
    {
     "name": "stdout",
     "output_type": "stream",
     "text": [
      "Task Added: come\n"
     ]
    },
    {
     "name": "stderr",
     "output_type": "stream",
     "text": [
      "127.0.0.1 - - [04/Sep/2024 16:51:06] \"POST /add HTTP/1.1\" 302 -\n",
      "127.0.0.1 - - [04/Sep/2024 16:51:06] \"GET / HTTP/1.1\" 200 -\n"
     ]
    },
    {
     "name": "stdout",
     "output_type": "stream",
     "text": [
      "Task Added: tmr\n"
     ]
    },
    {
     "name": "stderr",
     "output_type": "stream",
     "text": [
      "127.0.0.1 - - [04/Sep/2024 16:51:10] \"POST /add HTTP/1.1\" 302 -\n",
      "127.0.0.1 - - [04/Sep/2024 16:51:10] \"GET / HTTP/1.1\" 200 -\n"
     ]
    },
    {
     "name": "stdout",
     "output_type": "stream",
     "text": [
      "Task Added: now\n"
     ]
    },
    {
     "name": "stderr",
     "output_type": "stream",
     "text": [
      "127.0.0.1 - - [04/Sep/2024 16:51:13] \"POST /add HTTP/1.1\" 302 -\n",
      "127.0.0.1 - - [04/Sep/2024 16:51:14] \"GET / HTTP/1.1\" 200 -\n"
     ]
    },
    {
     "name": "stdout",
     "output_type": "stream",
     "text": [
      "Task Added: this\n"
     ]
    },
    {
     "name": "stderr",
     "output_type": "stream",
     "text": [
      "127.0.0.1 - - [04/Sep/2024 16:51:19] \"POST /add HTTP/1.1\" 302 -\n",
      "127.0.0.1 - - [04/Sep/2024 16:51:19] \"GET / HTTP/1.1\" 200 -\n"
     ]
    },
    {
     "name": "stdout",
     "output_type": "stream",
     "text": [
      "Task Added: that\n"
     ]
    },
    {
     "name": "stderr",
     "output_type": "stream",
     "text": [
      "127.0.0.1 - - [04/Sep/2024 16:51:20] \"GET /delete/5 HTTP/1.1\" 302 -\n",
      "127.0.0.1 - - [04/Sep/2024 16:51:20] \"GET / HTTP/1.1\" 200 -\n"
     ]
    },
    {
     "name": "stdout",
     "output_type": "stream",
     "text": [
      "Task Deleted: that\n"
     ]
    },
    {
     "name": "stderr",
     "output_type": "stream",
     "text": [
      "127.0.0.1 - - [04/Sep/2024 16:51:20] \"GET /delete/4 HTTP/1.1\" 302 -\n",
      "127.0.0.1 - - [04/Sep/2024 16:51:20] \"GET / HTTP/1.1\" 200 -\n"
     ]
    },
    {
     "name": "stdout",
     "output_type": "stream",
     "text": [
      "Task Deleted: this\n"
     ]
    },
    {
     "name": "stderr",
     "output_type": "stream",
     "text": [
      "127.0.0.1 - - [04/Sep/2024 16:51:37] \"GET /delete/0 HTTP/1.1\" 302 -\n",
      "127.0.0.1 - - [04/Sep/2024 16:51:37] \"GET / HTTP/1.1\" 200 -\n"
     ]
    },
    {
     "name": "stdout",
     "output_type": "stream",
     "text": [
      "Task Deleted: when\n"
     ]
    },
    {
     "name": "stderr",
     "output_type": "stream",
     "text": [
      "127.0.0.1 - - [04/Sep/2024 16:51:39] \"POST /add HTTP/1.1\" 302 -\n",
      "127.0.0.1 - - [04/Sep/2024 16:51:39] \"GET / HTTP/1.1\" 200 -\n"
     ]
    },
    {
     "name": "stdout",
     "output_type": "stream",
     "text": [
      "Task Added: sdsdfsf\n"
     ]
    },
    {
     "name": "stderr",
     "output_type": "stream",
     "text": [
      "127.0.0.1 - - [04/Sep/2024 16:51:43] \"POST /add HTTP/1.1\" 302 -\n",
      "127.0.0.1 - - [04/Sep/2024 16:51:43] \"GET / HTTP/1.1\" 200 -\n"
     ]
    },
    {
     "name": "stdout",
     "output_type": "stream",
     "text": [
      "Task Added: fdfd\n"
     ]
    },
    {
     "name": "stderr",
     "output_type": "stream",
     "text": [
      "127.0.0.1 - - [04/Sep/2024 16:51:45] \"POST /add HTTP/1.1\" 302 -\n",
      "127.0.0.1 - - [04/Sep/2024 16:51:45] \"GET / HTTP/1.1\" 200 -\n"
     ]
    },
    {
     "name": "stdout",
     "output_type": "stream",
     "text": [
      "Task Added: fdf\n"
     ]
    },
    {
     "name": "stderr",
     "output_type": "stream",
     "text": [
      "127.0.0.1 - - [04/Sep/2024 16:52:04] \"POST /add HTTP/1.1\" 302 -\n",
      "127.0.0.1 - - [04/Sep/2024 16:52:04] \"GET / HTTP/1.1\" 200 -\n"
     ]
    },
    {
     "name": "stdout",
     "output_type": "stream",
     "text": [
      "Task Added: gfgfg\n"
     ]
    },
    {
     "name": "stderr",
     "output_type": "stream",
     "text": [
      "127.0.0.1 - - [04/Sep/2024 16:52:05] \"GET /delete/0 HTTP/1.1\" 302 -\n",
      "127.0.0.1 - - [04/Sep/2024 16:52:05] \"GET / HTTP/1.1\" 200 -\n"
     ]
    },
    {
     "name": "stdout",
     "output_type": "stream",
     "text": [
      "Task Deleted: come\n"
     ]
    },
    {
     "name": "stderr",
     "output_type": "stream",
     "text": [
      "127.0.0.1 - - [04/Sep/2024 16:52:06] \"GET /delete/0 HTTP/1.1\" 302 -\n",
      "127.0.0.1 - - [04/Sep/2024 16:52:06] \"GET / HTTP/1.1\" 200 -\n"
     ]
    },
    {
     "name": "stdout",
     "output_type": "stream",
     "text": [
      "Task Deleted: tmr\n"
     ]
    },
    {
     "name": "stderr",
     "output_type": "stream",
     "text": [
      "127.0.0.1 - - [04/Sep/2024 16:52:06] \"GET /delete/1 HTTP/1.1\" 302 -\n",
      "127.0.0.1 - - [04/Sep/2024 16:52:06] \"GET / HTTP/1.1\" 200 -\n"
     ]
    },
    {
     "name": "stdout",
     "output_type": "stream",
     "text": [
      "Task Deleted: sdsdfsf\n"
     ]
    },
    {
     "name": "stderr",
     "output_type": "stream",
     "text": [
      "127.0.0.1 - - [04/Sep/2024 16:52:07] \"GET /delete/2 HTTP/1.1\" 302 -\n",
      "127.0.0.1 - - [04/Sep/2024 16:52:07] \"GET / HTTP/1.1\" 200 -\n"
     ]
    },
    {
     "name": "stdout",
     "output_type": "stream",
     "text": [
      "Task Deleted: fdf\n"
     ]
    },
    {
     "name": "stderr",
     "output_type": "stream",
     "text": [
      "127.0.0.1 - - [04/Sep/2024 16:52:08] \"GET /delete/2 HTTP/1.1\" 302 -\n",
      "127.0.0.1 - - [04/Sep/2024 16:52:08] \"GET / HTTP/1.1\" 200 -\n"
     ]
    },
    {
     "name": "stdout",
     "output_type": "stream",
     "text": [
      "Task Deleted: gfgfg\n"
     ]
    },
    {
     "name": "stderr",
     "output_type": "stream",
     "text": [
      "127.0.0.1 - - [04/Sep/2024 16:52:08] \"GET /delete/1 HTTP/1.1\" 302 -\n",
      "127.0.0.1 - - [04/Sep/2024 16:52:08] \"GET / HTTP/1.1\" 200 -\n"
     ]
    },
    {
     "name": "stdout",
     "output_type": "stream",
     "text": [
      "Task Deleted: fdfd\n"
     ]
    }
   ],
   "source": [
    "from flask import Flask, render_template, request, redirect, url_for\n",
    "from flask_ngrok import run_with_ngrok\n",
    "import nest_asyncio\n",
    "\n",
    "# Allow Flask to run inside Jupyter notebook\n",
    "nest_asyncio.apply()\n",
    "\n",
    "app = Flask(__name__)\n",
    "run_with_ngrok(app)  # Start ngrok when app is run\n",
    "\n",
    "# A list to store our tasks\n",
    "tasks = []\n",
    "\n",
    "@app.route('/')\n",
    "def index():\n",
    "    return f'''\n",
    "    <h1>To-Do List</h1>\n",
    "    <form action=\"/add\" method=\"POST\">\n",
    "        <input type=\"text\" name=\"task\" placeholder=\"Enter a new task\" required>\n",
    "        <button type=\"submit\">Add Task</button>\n",
    "    </form>\n",
    "    <ul>\n",
    "    {''.join([f'<li>{task} <a href=\"/delete/{i}\">Delete</a></li>' for i, task in enumerate(tasks)])}\n",
    "    </ul>\n",
    "    '''\n",
    "\n",
    "@app.route('/add', methods=['POST'])\n",
    "def add():\n",
    "    task = request.form.get('task')\n",
    "    if task:\n",
    "        tasks.append(task)\n",
    "    print(f\"Task Added: {task}\")  # Print the added task to the notebook output\n",
    "    return redirect(url_for('index'))\n",
    "\n",
    "@app.route('/delete/<int:task_id>')\n",
    "def delete(task_id):\n",
    "    if 0 <= task_id < len(tasks):\n",
    "        print(f\"Task Deleted: {tasks[task_id]}\")  # Print the deleted task to the notebook output\n",
    "        del tasks[task_id]\n",
    "    return redirect(url_for('index'))\n",
    "\n",
    "# Run the app\n",
    "app.run()\n"
   ]
  },
  {
   "cell_type": "code",
   "execution_count": null,
   "metadata": {},
   "outputs": [],
   "source": []
  }
 ],
 "metadata": {
  "kernelspec": {
   "display_name": "Python 3",
   "language": "python",
   "name": "python3"
  },
  "language_info": {
   "codemirror_mode": {
    "name": "ipython",
    "version": 3
   },
   "file_extension": ".py",
   "mimetype": "text/x-python",
   "name": "python",
   "nbconvert_exporter": "python",
   "pygments_lexer": "ipython3",
   "version": "3.11.5"
  }
 },
 "nbformat": 4,
 "nbformat_minor": 2
}
